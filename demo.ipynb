{
 "cells": [
  {
   "cell_type": "markdown",
   "metadata": {},
   "source": [
    "This is a file for managing tests and small snippets of code for the data analysis pipeline.\n",
    "\n",
    "Keep the .gz files. Unzip them by running the scripts. \n",
    "\n",
    "When working with data in this notebook, do not destructively modify the files in order to preserve data integrity and reproducibility.\n",
    "\n",
    "\n",
    "Export working processes to scripts for replication."
   ]
  },
  {
   "cell_type": "code",
   "execution_count": 1,
   "metadata": {},
   "outputs": [],
   "source": [
    "import pandas as pd\n",
    "import numpy as np\n",
    "import matplotlib.pyplot as plt\n",
    "import seaborn as sns"
   ]
  },
  {
   "cell_type": "code",
   "execution_count": null,
   "metadata": {},
   "outputs": [
    {
     "name": "stdout",
     "output_type": "stream",
     "text": []
    }
   ],
   "source": [
    "diagnoses_df = pd.read_csv('Data/diagnoses_icd.csv')"
   ]
  },
  {
   "cell_type": "code",
   "execution_count": null,
   "metadata": {},
   "outputs": [],
   "source": [
    "# Verification\n",
    "total_diagnoses = len(diagnoses_df)\n",
    "unique_patients = diagnoses_df['subject_id'].nunique()\n",
    "verification = total_diagnoses / unique_patients\n",
    "print(f\"Verification - Total diagnoses ({total_diagnoses}) / Unique patients ({unique_patients}) = {verification:.2f}\")"
   ]
  },
  {
   "cell_type": "code",
   "execution_count": 7,
   "metadata": {
    "vscode": {
     "languageId": "ruby"
    }
   },
   "outputs": [
    {
     "name": "stdout",
     "output_type": "stream",
     "text": []
    },
    {
     "name": "stdout",
     "output_type": "stream",
     "text": []
    }
   ],
   "source": [
    "# Compute number of diagnoses per patient\n",
    "diagnoses_per_patient = diagnoses_df.groupby('subject_id').size()\n",
    "\n",
    "# Create bins for the number of diagnoses\n",
    "bins = [0, 5, 10, 15, 20, 30, 50, 100, diagnoses_per_patient.max()]\n",
    "labels = ['1-5', '6-10', '11-20', '21-50', '51-100', '101-200', '201-500', '500+']\n",
    "\n",
    "# Categorize patients by number of diagnoses\n",
    "diagnoses_buckets = pd.cut(diagnoses_per_patient, bins=bins, labels=labels, right=True)\n",
    "bucket_counts = diagnoses_buckets.value_counts().sort_index()\n",
    "\n",
    "# Create visualization\n",
    "plt.figure(figsize=(12, 6))\n",
    "ax = bucket_counts.plot(kind='bar', color='skyblue')\n",
    "plt.title('Distribution of Diagnoses per Patient')\n",
    "plt.xlabel('Number of Diagnoses')\n",
    "plt.ylabel('Number of Patients')\n",
    "plt.xticks(rotation=45)\n",
    "plt.grid(axis='y', linestyle='--', alpha=0.7)\n",
    "\n",
    "# Add value labels on top of bars\n",
    "for i, v in enumerate(bucket_counts):\n",
    "    ax.text(i, v + 0.5, f\"{v:,}\", ha='center', va='bottom')\n",
    "\n",
    "# Add summary statistics\n",
    "plt.figtext(0.15, 0.85, f\"Mean diagnoses per patient: {diagnoses_per_patient.mean():.2f}\")\n",
    "plt.figtext(0.15, 0.82, f\"Median diagnoses per patient: {diagnoses_per_patient.median():.0f}\")\n",
    "plt.figtext(0.15, 0.79, f\"Max diagnoses per patient: {diagnoses_per_patient.max():.0f}\")\n",
    "\n",
    "plt.tight_layout()\n",
    "plt.show()\n",
    "\n",
    "# Show detailed numeric breakdown\n",
    "print(\"Number of patients by diagnosis count:\")\n",
    "print(bucket_counts)"
   ]
  }
 ],
 "metadata": {
  "kernelspec": {
   "display_name": "Python 3",
   "language": "python",
   "name": "python3"
  },
  "language_info": {
   "codemirror_mode": {
    "name": "ipython",
    "version": 3
   },
   "file_extension": ".py",
   "mimetype": "text/x-python",
   "name": "python",
   "nbconvert_exporter": "python",
   "pygments_lexer": "ipython3",
   "version": "3.10.5"
  }
 },
 "nbformat": 4,
 "nbformat_minor": 2
}
