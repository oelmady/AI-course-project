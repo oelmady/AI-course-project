{
 "cells": [
  {
   "cell_type": "code",
   "execution_count": 2,
   "metadata": {},
   "outputs": [],
   "source": [
    "# Import required libraries\n",
    "import os\n",
    "import pandas as pd\n",
    "import numpy as np\n",
    "import matplotlib.pyplot as plt\n",
    "import seaborn as sns\n"
   ]
  },
  {
   "cell_type": "code",
   "execution_count": 3,
   "metadata": {},
   "outputs": [
    {
     "name": "stdout",
     "output_type": "stream",
     "text": [
      "Loaded 300606 diagnosis records\n",
      "Loaded 223452 patient demographic records\n",
      "\n",
      "Sample of diagnosis data:\n"
     ]
    },
    {
     "data": {
      "text/html": [
       "<div>\n",
       "<style scoped>\n",
       "    .dataframe tbody tr th:only-of-type {\n",
       "        vertical-align: middle;\n",
       "    }\n",
       "\n",
       "    .dataframe tbody tr th {\n",
       "        vertical-align: top;\n",
       "    }\n",
       "\n",
       "    .dataframe thead th {\n",
       "        text-align: right;\n",
       "    }\n",
       "</style>\n",
       "<table border=\"1\" class=\"dataframe\">\n",
       "  <thead>\n",
       "    <tr style=\"text-align: right;\">\n",
       "      <th></th>\n",
       "      <th>subject_id</th>\n",
       "      <th>hadm_id</th>\n",
       "      <th>seq_num</th>\n",
       "      <th>icd_code</th>\n",
       "      <th>icd_version</th>\n",
       "    </tr>\n",
       "  </thead>\n",
       "  <tbody>\n",
       "    <tr>\n",
       "      <th>0</th>\n",
       "      <td>10000032</td>\n",
       "      <td>22595853</td>\n",
       "      <td>1</td>\n",
       "      <td>5723</td>\n",
       "      <td>9</td>\n",
       "    </tr>\n",
       "    <tr>\n",
       "      <th>1</th>\n",
       "      <td>10000032</td>\n",
       "      <td>22595853</td>\n",
       "      <td>2</td>\n",
       "      <td>78959</td>\n",
       "      <td>9</td>\n",
       "    </tr>\n",
       "    <tr>\n",
       "      <th>2</th>\n",
       "      <td>10000032</td>\n",
       "      <td>22595853</td>\n",
       "      <td>3</td>\n",
       "      <td>5715</td>\n",
       "      <td>9</td>\n",
       "    </tr>\n",
       "    <tr>\n",
       "      <th>3</th>\n",
       "      <td>10000032</td>\n",
       "      <td>22595853</td>\n",
       "      <td>4</td>\n",
       "      <td>07070</td>\n",
       "      <td>9</td>\n",
       "    </tr>\n",
       "    <tr>\n",
       "      <th>4</th>\n",
       "      <td>10000032</td>\n",
       "      <td>22595853</td>\n",
       "      <td>5</td>\n",
       "      <td>496</td>\n",
       "      <td>9</td>\n",
       "    </tr>\n",
       "  </tbody>\n",
       "</table>\n",
       "</div>"
      ],
      "text/plain": [
       "   subject_id   hadm_id  seq_num icd_code  icd_version\n",
       "0    10000032  22595853        1     5723            9\n",
       "1    10000032  22595853        2    78959            9\n",
       "2    10000032  22595853        3     5715            9\n",
       "3    10000032  22595853        4    07070            9\n",
       "4    10000032  22595853        5      496            9"
      ]
     },
     "execution_count": 3,
     "metadata": {},
     "output_type": "execute_result"
    }
   ],
   "source": [
    "# Load the diagnoses data\n",
    "diagnoses_path = \"Data/diagnoses_icd.csv\"\n",
    "demographics_path = \"Data/demographics.csv\"\n",
    "\n",
    "if os.path.exists(diagnoses_path):\n",
    "    diagnoses_df = pd.read_csv(diagnoses_path)\n",
    "    print(f\"Loaded {len(diagnoses_df)} diagnosis records\")\n",
    "else:\n",
    "    raise FileNotFoundError(f\"Diagnoses file not found at {diagnoses_path}\")\n",
    "    \n",
    "if os.path.exists(demographics_path):\n",
    "    demographics_df = pd.read_csv(demographics_path)\n",
    "    print(f\"Loaded {len(demographics_df)} patient demographic records\")\n",
    "else:\n",
    "    print(\"Demographics file not found. Will only analyze diagnosis data.\")\n",
    "\n",
    "# Display diagnosis data sample\n",
    "print(\"\\nSample of diagnosis data:\")\n",
    "diagnoses_df.head()"
   ]
  },
  {
   "cell_type": "code",
   "execution_count": 4,
   "metadata": {},
   "outputs": [
    {
     "name": "stdout",
     "output_type": "stream",
     "text": [
      "Number of unique patients: 10842\n",
      "Number of unique ICD codes: 12144\n",
      "\n",
      "Top 10 most common diagnoses:\n",
      "icd_code\n",
      "4019      4793\n",
      "E785      4093\n",
      "I10       4042\n",
      "Z87891    3148\n",
      "2724      3071\n",
      "K219      2729\n",
      "53081     2185\n",
      "I2510     2030\n",
      "F329      2016\n",
      "25000     1984\n",
      "Name: count, dtype: int64\n",
      "\n",
      "Diagnoses per patient statistics:\n",
      "Mean: 27.73\n",
      "Median: 13.00\n",
      "Min: 1\n",
      "Max: 1289\n"
     ]
    },
    {
     "data": {
      "image/png": "[encoded data removed]",
      "text/plain": [
       "<Figure size 720x432 with 1 Axes>"
      ]
     },
     "metadata": {
      "needs_background": "light"
     },
     "output_type": "display_data"
    }
   ],
   "source": [
    "# Basic data exploration\n",
    "print(f\"Number of unique patients: {diagnoses_df['subject_id'].nunique()}\")\n",
    "print(f\"Number of unique ICD codes: {diagnoses_df['icd_code'].nunique()}\")\n",
    "\n",
    "# Find the most common diagnoses\n",
    "top_diagnoses = diagnoses_df['icd_code'].value_counts().head(10)\n",
    "print(\"\\nTop 10 most common diagnoses:\")\n",
    "print(top_diagnoses)\n",
    "\n",
    "# Distribution of diagnoses per patient\n",
    "diagnoses_per_patient = diagnoses_df.groupby('subject_id').size()\n",
    "print(\"\\nDiagnoses per patient statistics:\")\n",
    "print(f\"Mean: {diagnoses_per_patient.mean():.2f}\")\n",
    "print(f\"Median: {diagnoses_per_patient.median():.2f}\")\n",
    "print(f\"Min: {diagnoses_per_patient.min()}\")\n",
    "print(f\"Max: {diagnoses_per_patient.max()}\")\n",
    "\n",
    "# Visualize top diagnoses\n",
    "plt.figure(figsize=(10, 6))\n",
    "top_diagnoses.plot(kind='bar')\n",
    "plt.title('Top 10 Most Common Diagnoses')\n",
    "plt.xlabel('ICD Code')\n",
    "plt.ylabel('Count')\n",
    "plt.tight_layout()\n",
    "plt.show()"
   ]
  },
  {
   "cell_type": "code",
   "execution_count": 6,
   "metadata": {},
   "outputs": [
    {
     "name": "stdout",
     "output_type": "stream",
     "text": [
      "Filtering out 524 patients with more than 100 diagnoses\n",
      "These patients represent 4.83% of total patients\n",
      "Removing 99912 records (33.24% of all records)\n"
     ]
    }
   ],
   "source": [
    "def filter_excessive_diagnoses(diagnoses_df, max_diagnoses=100):\n",
    "    \"\"\"\n",
    "    Filters out patients with excessive number of diagnoses (likely data entry errors).\n",
    "    \n",
    "    Args:\n",
    "        diagnoses_df: DataFrame with diagnoses data\n",
    "        max_diagnoses: Maximum number of diagnoses allowed per patient\n",
    "        \n",
    "    Returns:\n",
    "        DataFrame: Filtered diagnoses DataFrame\n",
    "    \"\"\"\n",
    "    # Count diagnoses per patient\n",
    "    diagnoses_per_patient = diagnoses_df.groupby('subject_id').size()\n",
    "    \n",
    "    # Identify patients with excessive diagnoses\n",
    "    excessive_patients = diagnoses_per_patient[diagnoses_per_patient > max_diagnoses].index\n",
    "    \n",
    "    # Report on filtering\n",
    "    print(f\"Filtering out {len(excessive_patients)} patients with more than {max_diagnoses} diagnoses\")\n",
    "    print(f\"These patients represent {len(excessive_patients) / diagnoses_df['subject_id'].nunique() * 100:.2f}% of total patients\")\n",
    "    \n",
    "    # Get total diagnoses for these patients\n",
    "    excessive_records = diagnoses_df[diagnoses_df['subject_id'].isin(excessive_patients)]\n",
    "    print(f\"Removing {len(excessive_records)} records ({len(excessive_records) / len(diagnoses_df) * 100:.2f}% of all records)\")\n",
    "    \n",
    "    # Filter out these patients\n",
    "    filtered_df = diagnoses_df[~diagnoses_df['subject_id'].isin(excessive_patients)]\n",
    "    \n",
    "    return filtered_df\n",
    "\n",
    "filtered_diagnoses_df = filter_excessive_diagnoses(diagnoses_df, max_diagnoses=100)"
   ]
  },
  {
   "cell_type": "code",
   "execution_count": 7,
   "metadata": {},
   "outputs": [
    {
     "name": "stdout",
     "output_type": "stream",
     "text": [
      "\n",
      "Testing improved comorbidity analysis function:\n",
      "Analyzing predictive comorbidities for I10...\n",
      "Found 2444 patients with I10 diagnosis\n",
      "Positive cases: 2444, Negative cases: 8398\n",
      "Feature matrix shape: (10842, 12143)\n",
      "\n",
      "Top 10 Most Significant Comorbidities:\n",
      "ICD Code: E785, Chi2: 1976.06, p-value: 0.00000\n",
      "ICD Code: E119, Chi2: 1054.61, p-value: 0.00000\n",
      "ICD Code: K219, Chi2: 836.63, p-value: 0.00000\n",
      "ICD Code: Z87891, Chi2: 833.12, p-value: 0.00000\n",
      "ICD Code: I2510, Chi2: 563.14, p-value: 0.00000\n",
      "ICD Code: N179, Chi2: 453.54, p-value: 0.00000\n",
      "ICD Code: Z7902, Chi2: 439.19, p-value: 0.00000\n",
      "ICD Code: G4733, Chi2: 419.35, p-value: 0.00000\n",
      "ICD Code: D62, Chi2: 412.51, p-value: 0.00000\n",
      "ICD Code: Z7901, Chi2: 377.39, p-value: 0.00000\n",
      "\n",
      "Prevalence Analysis for Top Comorbidities:\n",
      "ICD: E785, Target: 0.00%, Non-Target: 0.02%, Ratio: 0.00x\n",
      "ICD: E119, Target: 0.00%, Non-Target: 0.04%, Ratio: 0.00x\n",
      "ICD: K219, Target: 0.00%, Non-Target: 0.01%, Ratio: 0.00x\n",
      "ICD: Z87891, Target: 0.04%, Non-Target: 0.00%, Ratio: 0.41x\n",
      "ICD: I2510, Target: 0.00%, Non-Target: 0.01%, Ratio: 0.00x\n",
      "ICD: N179, Target: 0.00%, Non-Target: 0.01%, Ratio: 0.00x\n",
      "ICD: Z7902, Target: 0.00%, Non-Target: 0.01%, Ratio: 0.00x\n",
      "ICD: G4733, Target: 0.49%, Non-Target: 1.26%, Ratio: 0.39x\n",
      "ICD: D62, Target: 0.00%, Non-Target: 0.02%, Ratio: 0.00x\n",
      "ICD: Z7901, Target: 0.04%, Non-Target: 0.07%, Ratio: 0.57x\n",
      "\n",
      "Results saved to hypertension_comorbidities.csv\n"
     ]
    }
   ],
   "source": [
    "from knn_evaluation import analyze_predictive_comorbidities\n",
    "\n",
    "# Test analyze_predictive_comorbidities function\n",
    "print(\"\\nTesting improved comorbidity analysis function:\")\n",
    "feature_importance = analyze_predictive_comorbidities(diagnoses_df, \"I10\")  # Hypertension\n",
    "\n",
    "# Save results to CSV for further analysis\n",
    "feature_importance.to_csv(\"hypertension_comorbidities.csv\", index=False)\n",
    "print(\"\\nResults saved to hypertension_comorbidities.csv\")"
   ]
  }
 ],
 "metadata": {
  "kernelspec": {
   "display_name": "Python 3",
   "language": "python",
   "name": "python3"
  },
  "language_info": {
   "codemirror_mode": {
    "name": "ipython",
    "version": 3
   },
   "file_extension": ".py",
   "mimetype": "text/x-python",
   "name": "python",
   "nbconvert_exporter": "python",
   "pygments_lexer": "ipython3",
   "version": "3.10.5"
  }
 },
 "nbformat": 4,
 "nbformat_minor": 2
}
