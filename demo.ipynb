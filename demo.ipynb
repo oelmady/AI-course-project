{
 "cells": [
  {
   "cell_type": "code",
   "execution_count": null,
   "metadata": {},
   "outputs": [],
   "source": [
    "# Import required libraries\n",
    "import os\n",
    "import pandas as pd\n",
    "import numpy as np\n",
    "import matplotlib.pyplot as plt\n",
    "import seaborn as sns\n"
   ]
  },
  {
   "cell_type": "code",
   "execution_count": null,
   "metadata": {},
   "outputs": [],
   "source": [
    "# Load the diagnoses data\n",
    "diagnoses_path = \"Data/diagnoses_icd.csv\"\n",
    "demographics_path = \"Data/demographics.csv\"\n",
    "\n",
    "if os.path.exists(diagnoses_path):\n",
    "    diagnoses_df = pd.read_csv(diagnoses_path)\n",
    "    print(f\"Loaded {len(diagnoses_df)} diagnosis records\")\n",
    "else:\n",
    "    raise FileNotFoundError(f\"Diagnoses file not found at {diagnoses_path}\")\n",
    "    \n",
    "if os.path.exists(demographics_path):\n",
    "    demographics_df = pd.read_csv(demographics_path)\n",
    "    print(f\"Loaded {len(demographics_df)} patient demographic records\")\n",
    "else:\n",
    "    print(\"Demographics file not found. Will only analyze diagnosis data.\")"
   ]
  },
  {
   "cell_type": "code",
   "execution_count": null,
   "metadata": {},
   "outputs": [],
   "source": [
    "# Basic data exploration\n",
    "print(f\"Number of unique patients: {diagnoses_df['subject_id'].nunique()}\")\n",
    "print(f\"Number of unique ICD codes: {diagnoses_df['icd_code'].nunique()}\")\n",
    "\n",
    "# Find the most common diagnoses\n",
    "top_diagnoses = diagnoses_df['icd_code'].value_counts().head(10)\n",
    "print(\"\\nTop 10 most common diagnoses:\")\n",
    "print(top_diagnoses)\n",
    "\n",
    "# Distribution of diagnoses per patient\n",
    "diagnoses_per_patient = diagnoses_df.groupby('subject_id').size()\n",
    "print(\"\\nDiagnoses per patient statistics:\")\n",
    "print(f\"Mean: {diagnoses_per_patient.mean():.2f}\")\n",
    "print(f\"Median: {diagnoses_per_patient.median():.2f}\")\n",
    "print(f\"Min: {diagnoses_per_patient.min()}\")\n",
    "print(f\"Max: {diagnoses_per_patient.max()}\")"
   ]
  },
  {
   "cell_type": "code",
   "execution_count": null,
   "metadata": {},
   "outputs": [],
   "source": [
    "'''\n",
    "223452 patients\n",
    "gender\n",
    "F    117736\n",
    "M    105716\n",
    "\n",
    "insurance\n",
    "Private      86139\n",
    "Medicare     85524\n",
    "Medicaid     38022\n",
    "Other         6952\n",
    "No charge      187\n",
    "\n",
    "language\n",
    "English         202713\n",
    "Spanish           6783\n",
    "Chinese           3369\n",
    "Russian           2415\n",
    "Kabuverdianu      1750\n",
    "Portuguese        1452\n",
    "Haitian           1003\n",
    "Other              608\n",
    "Vietnamese         494\n",
    "Arabic             303\n",
    "\n",
    "marital_status\n",
    "MARRIED     95614\n",
    "SINGLE      82797\n",
    "WIDOWED     20226\n",
    "DIVORCED    14119\n",
    "\n",
    "race\n",
    "WHITE                             138346\n",
    "BLACK/AFRICAN AMERICAN             23400\n",
    "UNKNOWN                            10352\n",
    "OTHER                               9469\n",
    "WHITE - OTHER EUROPEAN              5717\n",
    "ASIAN                               4302\n",
    "HISPANIC/LATINO - PUERTO RICAN      3530\n",
    "ASIAN - CHINESE                     3398\n",
    "HISPANIC OR LATINO                  3223\n",
    "UNABLE TO OBTAIN                    2610\n",
    "'''\n",
    "# Get information about data types and missing values\n",
    "print(\"\\nDemographics Data Information:\")\n",
    "print(f\"Number of rows: {len(demographics_df)}\")\n",
    "print(f\"Number of columns: {len(demographics_df.columns)}\")\n",
    "print(\"\\nMissing values per column:\")\n",
    "print(demographics_df.isnull().sum())\n",
    "\n",
    "# Display distribution of categorical variables if present\n",
    "categorical_cols = demographics_df.select_dtypes(include=['object', 'category']).columns\n",
    "if len(categorical_cols) > 0:\n",
    "    print(\"\\nDistribution of categorical variables:\")\n",
    "    for col in categorical_cols:\n",
    "        print(demographics_df[col].value_counts().head(10))  # Show top 10 categories"
   ]
  },
  {
   "cell_type": "code",
   "execution_count": null,
   "metadata": {},
   "outputs": [],
   "source": []
  },
  {
   "cell_type": "code",
   "execution_count": null,
   "metadata": {},
   "outputs": [],
   "source": [
    "from EVAL.knn_diagnosis_eval import diagnosis_evaluation\n",
    "# cross validation to find the best k value for precision-recall tradeoff\n",
    "'''\n",
    "k=11 gives the best performance\n",
    "=== Overall Results ===\n",
    "Mean AUC-ROC: 0.865 ± 0.039\n",
    "Mean PR-AUC: 0.584 ± 0.076\n",
    "Mean Accuracy: 0.732 ± 0.047\n",
    "Mean F1 Score: 0.594 ± 0.053\n",
    "a similarity threshold between 0.12-0.17 gives the best results. 0.15 is a good middle point\n",
    "\n",
    "=== Overall Results ===\n",
    "Mean AUC-ROC: 0.867 ± 0.021\n",
    "Mean PR-AUC: 0.626 ± 0.042\n",
    "Mean Accuracy: 0.755 ± 0.019\n",
    "Mean F1 Score: 0.611 ± 0.020\n",
    "\n",
    "'''"
   ]
  },
  {
   "cell_type": "code",
   "execution_count": null,
   "metadata": {},
   "outputs": [],
   "source": [
    "from EVAL.knn_diagnosis_eval import evaluate_threshold_curve\n",
    "#\n",
    "evaluate_threshold_curve(diagnoses_df, \"I10\")"
   ]
  }
 ],
 "metadata": {
  "kernelspec": {
   "display_name": "Python 3",
   "language": "python",
   "name": "python3"
  },
  "language_info": {
   "codemirror_mode": {
    "name": "ipython",
    "version": 3
   },
   "file_extension": ".py",
   "mimetype": "text/x-python",
   "name": "python",
   "nbconvert_exporter": "python",
   "pygments_lexer": "ipython3",
   "version": "3.10.5"
  }
 },
 "nbformat": 4,
 "nbformat_minor": 2
}
