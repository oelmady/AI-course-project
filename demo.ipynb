{
 "cells": [
  {
   "cell_type": "markdown",
   "metadata": {},
   "source": [
    "This is a file for managing tests and small snippets of code for the data analysis pipeline.\n",
    "\n",
    "Keep the .gz files. Unzip them by running the scripts. \n",
    "\n",
    "When working with data in this notebook, do not destructively modify the files in order to preserve data integrity and reproducibility.\n",
    "\n",
    "\n",
    "Export working processes to scripts for replication."
   ]
  }
 ],
 "metadata": {
  "kernelspec": {
   "display_name": "Python 3",
   "language": "python",
   "name": "python3"
  },
  "language_info": {
   "codemirror_mode": {
    "name": "ipython",
    "version": 3
   },
   "file_extension": ".py",
   "mimetype": "text/x-python",
   "name": "python",
   "nbconvert_exporter": "python",
   "pygments_lexer": "ipython3",
   "version": "3.10.5"
  }
 },
 "nbformat": 4,
 "nbformat_minor": 2
}
