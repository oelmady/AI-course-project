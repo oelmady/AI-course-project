{
 "cells": [
  {
   "cell_type": "code",
   "execution_count": null,
   "metadata": {},
   "outputs": [
    {
     "name": "stdout",
     "output_type": "stream",
     "text": [
      "['patients.csv.gz', 'diagnoses_icd.csv.gz', 'admissions.csv.gz']\n"
     ]
    }
   ],
   "source": [
    "import os\n",
    "import pandas as pd\n",
    "\n",
    "# Path to the directory containing the hosp dataset CSV files\n",
    "dataset_path = \"Data\"\n",
    "\n",
    "# Unzip all files in the Data folder into corresponding CSV files\n",
    "files = [file for file in os.listdir(dataset_path)]\n",
    "print(files)"
   ]
  },
  {
   "cell_type": "code",
   "execution_count": null,
   "metadata": {},
   "outputs": [],
   "source": [
    "# Initialize a dictionary to hold all dataframes\n",
    "dataframes = {}\n",
    "\n",
    "# Read each gzipped CSV file\n",
    "for file in files:\n",
    "    file_path = os.path.join(dataset_path, file)\n",
    "    print(f\"Reading {file}...\")\n",
    "    \n",
    "    # Extract the base name without extension to use as dataframe key\n",
    "    base_name = file.split('.')[0]\n",
    "    \n",
    "    # Read the gzipped CSV file\n",
    "    dataframes[base_name] = pd.read_csv(file_path, compression='gzip', low_memory=False)\n",
    "    print(f\"Shape of {base_name}: {dataframes[base_name].shape}\")\n",
    "\n",
    "# Display the first few rows of each dataframe\n",
    "for name, df in dataframes.items():\n",
    "    print(f\"\\n--- First 5 rows of {name} ---\")\n",
    "    print(df.head())\n",
    "\n",
    "# Merge the dataframes on subject_id PK\n",
    "merged_df = None\n",
    "\n",
    "for name, df in dataframes.items():\n",
    "    if merged_df is None:\n",
    "        merged_df = df\n",
    "    else:\n",
    "        merged_df = pd.merge(merged_df, df, on='subject_id', how='inner')\n",
    "print(f\"\\n--- Merged DataFrame shape: {merged_df.shape} ---\")"
   ]
  }
 ],
 "metadata": {
  "kernelspec": {
   "display_name": "Python 3",
   "language": "python",
   "name": "python3"
  },
  "language_info": {
   "codemirror_mode": {
    "name": "ipython",
    "version": 3
   },
   "file_extension": ".py",
   "mimetype": "text/x-python",
   "name": "python",
   "nbconvert_exporter": "python",
   "pygments_lexer": "ipython3",
   "version": "3.10.5"
  }
 },
 "nbformat": 4,
 "nbformat_minor": 2
}
